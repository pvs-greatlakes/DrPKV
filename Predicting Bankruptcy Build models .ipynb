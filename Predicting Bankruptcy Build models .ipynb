{
 "cells": [
  {
   "cell_type": "code",
   "execution_count": 1,
   "id": "4a20dfa1",
   "metadata": {},
   "outputs": [],
   "source": [
    "import os\n",
    "import warnings\n",
    "warnings.filterwarnings('ignore')"
   ]
  },
  {
   "cell_type": "code",
   "execution_count": 2,
   "id": "0e7b0568",
   "metadata": {},
   "outputs": [],
   "source": [
    "import time\n",
    "from datetime import timedelta"
   ]
  },
  {
   "cell_type": "code",
   "execution_count": 3,
   "id": "ffc321fc",
   "metadata": {},
   "outputs": [],
   "source": [
    "import pandas                   as     pd\n",
    "import numpy                    as     np\n",
    "import seaborn                  as     sns\n",
    "import matplotlib.pyplot        as     plt\n",
    "import statsmodels.api          as     sm\n",
    "from   sklearn.preprocessing    import OrdinalEncoder\n",
    "from   sklearn                  import metrics\n",
    "from   sklearn                  import tree\n",
    "import sys, os"
   ]
  },
  {
   "cell_type": "code",
   "execution_count": 4,
   "id": "98f7f440",
   "metadata": {},
   "outputs": [],
   "source": [
    "os.chdir(r'D:\\DrPKV\\20220519')\n",
    "file_name   = './Output/Bankruptcy-data-2022_06_17_13_49_02.csv'"
   ]
  },
  {
   "cell_type": "code",
   "execution_count": 5,
   "id": "1ad14f39",
   "metadata": {},
   "outputs": [],
   "source": [
    "def split_target_predictor(dataframe, target_name): \n",
    "\n",
    "    import pandas as pd\n",
    "    \n",
    "    df                 = pd.DataFrame(dataframe)\n",
    "    predictor_names    = list(df.columns)\n",
    "    array              = df.values \n",
    "    \n",
    "    #target_name        = input('Target variable name: ')\n",
    "    \n",
    "    predictor_names.remove(target_name)\n",
    "   \n",
    "    idx                = [df.columns.get_loc(c) for c in df.columns if c in predictor_names]\n",
    "    X                  = array[:,idx] \n",
    "\n",
    "    \n",
    "    idy                =  df.columns.get_loc(target_name)\n",
    "    Y                  = array[:,idy] \n",
    "    return X, Y\n",
    "\n",
    "### --------------------------------------------------------------------------------------------\n"
   ]
  },
  {
   "cell_type": "code",
   "execution_count": 6,
   "id": "b6a18729",
   "metadata": {},
   "outputs": [],
   "source": [
    "\"\"\"\n",
    "   Function Name: split_train_test\n",
    "\n",
    "   Description: This function splits the data into training data and test data in the specified \n",
    "                proportion.\n",
    "   \n",
    "   Input: 1) Array for Predictor variables \n",
    "          2) Array for Target variable\n",
    "          3) Test data proportion\n",
    "          4) Seed for random number used in split\n",
    "    \n",
    "    \n",
    "   Output: 1) Array of Training data for predictor variables\n",
    "           2) Array of Training data for target variable\n",
    "           3) Array of Testing  data for predictor variables\n",
    "           4) Array of Testing  data for target variable\n",
    "          \n",
    "   \n",
    "\"\"\"\n",
    "\n",
    "def split_train_test(df1, target_var, test_size = 0.3, seed = 123): \n",
    "\n",
    "    from   sklearn.model_selection  import  train_test_split\n",
    "    \n",
    "    Y                                =  df1.pop(target_var)\n",
    "    X                                =  df1\n",
    "    \n",
    "    X_train, X_test, Y_train, Y_test =  train_test_split(X, Y, test_size = test_size, random_state = seed) \n",
    "\n",
    "    return X_train, X_test, Y_train, Y_test\n",
    "\n",
    "### --------------------------------------------------------------------------------------------"
   ]
  },
  {
   "cell_type": "code",
   "execution_count": 7,
   "id": "9c9dbd0f",
   "metadata": {},
   "outputs": [],
   "source": [
    "\"\"\"\n",
    "Function Name: compare_models\n",
    "\n",
    "   Description: This **function** compares various algorithms on \n",
    "                 1) AUROC 2) Precision, 3) Recall\n",
    "   \n",
    "   Input: 1) splits for k fold \n",
    "          2) random seed number\n",
    "          3) Training data for predictor variables\n",
    "          4) Training data for target variable\n",
    "\n",
    "\n",
    "\n",
    "   Output: Model comparison on these metrics 1) AUROC 2) Metrics - Precision, Recall\n",
    "   \n",
    "\"\"\"\n",
    "def compare_models(n_splits, random_state, X_train, Y_train):  \n",
    "\n",
    "    ### To compare algorithms\n",
    "    \n",
    "    from    matplotlib import pyplot\n",
    "    from    sklearn.model_selection    import   KFold\n",
    "    from    sklearn.model_selection    import   cross_val_score\n",
    "    from    sklearn.linear_model       import   LogisticRegression\n",
    "    from    sklearn.tree               import   DecisionTreeClassifier\n",
    "    from    sklearn.neighbors          import   KNeighborsClassifier\n",
    "    from    sklearn.naive_bayes        import   GaussianNB\n",
    "    from    sklearn.ensemble           import   RandomForestClassifier\n",
    "    \n",
    "    ### Prepare models\n",
    "    \n",
    "    models  = []\n",
    "    models.append(('LR', LogisticRegression()))\n",
    "    models.append(('KNN', KNeighborsClassifier()))\n",
    "    models.append(('CART', DecisionTreeClassifier()))\n",
    "    models.append(('NB', GaussianNB()))\n",
    "    models.append(('RF',RandomForestClassifier()))\n",
    "    \n",
    "    \n",
    "    ### Evaluate model in turn\n",
    "   \n",
    "    scores_req =  ['roc_auc', 'precision', 'recall']\n",
    "    \n",
    "    for i in range(len(scores_req)):\n",
    "        results    =  []\n",
    "        scoring    = scores_req[i]\n",
    "        names      =  []\n",
    "        print(scoring)\n",
    "        \n",
    "        for name, model in models:\n",
    "                print(\"\\n n_splits %d\" % (n_splits))        \t\n",
    "                kfold      =  KFold(n_splits)                \n",
    "\n",
    "                cv_results =   cross_val_score(model, X_train, Y_train, cv = kfold, scoring = scoring)\n",
    "                results.append(cv_results)\n",
    "                names.append(name)\n",
    "                msg = \"%s: %f (%f)\" % (name, cv_results.mean(), cv_results.std())\n",
    "                print(msg)\n",
    "        \n",
    "        ### Box plot algorithm comparison\n",
    "        \n",
    "        sub_title = 'Algorithm Comparison using ' + scoring\n",
    "        \n",
    "        fig = pyplot.figure()\n",
    "        fig.suptitle(sub_title)\n",
    "        ax  = fig.add_subplot(111)\n",
    "        pyplot.boxplot(results)\n",
    "        ax.set_xticklabels(names)\n",
    "        pyplot.show()\n",
    "\n",
    "### ------------------------------------------------------------------------------------------\n"
   ]
  },
  {
   "cell_type": "code",
   "execution_count": 8,
   "id": "47c1b88b",
   "metadata": {},
   "outputs": [
    {
     "name": "stdout",
     "output_type": "stream",
     "text": [
      "Index(['Row', 'Year', 'Year Encoded', 'Target', 'Asset_turnover',\n",
      "       'Receivable_turnover(new)', 'Inventory_turnover', 'Cash_ratio',\n",
      "       'Quick_ratio', 'Current_ratio', 'ROA(new)', 'ROE(new)', 'ROS(new)',\n",
      "       'debt_asset', 'debt_equity', 'debt_income', 'Interest_coverage',\n",
      "       'Asset_coverage', 'EBIT_Sales', 'Sales_CE', 'ROCE_CE',\n",
      "       'Changeinsales_Industry', 'Grossvaluedadded', 'Ln_GVA',\n",
      "       'Operating Cash Flow/Total Sales', 'Operating Cash Flow/Total Debt',\n",
      "       'Operating Cash Flow/Shareholder\"s Equity',\n",
      "       'Fixed Asset Turnover Ratio', 'YOY Sales Growth Rate',\n",
      "       'YOY EBIT Growth Rate', 'Total shareholders\" funds', 'Company_name'],\n",
      "      dtype='object')\n"
     ]
    }
   ],
   "source": [
    "df1           =   pd.read_csv(file_name)\n",
    "df1.columns   =   ['Row', 'Year', 'Year Encoded', 'Target','Asset_turnover', 'Receivable_turnover(new)',\\\n",
    "                   'Inventory_turnover','Cash_ratio', 'Quick_ratio', 'Current_ratio', 'ROA(new)', 'ROE(new)',\\\n",
    "                   'ROS(new)', 'debt_asset', 'debt_equity', 'debt_income','Interest_coverage', 'Asset_coverage',\\\n",
    "                   'EBIT_Sales', 'Sales_CE','ROCE_CE', 'Changeinsales_Industry', 'Grossvaluedadded', 'Ln_GVA',\\\n",
    "                   'Operating Cash Flow/Total Sales', 'Operating Cash Flow/Total Debt',\\\n",
    "                   'Operating Cash Flow/Shareholder\"s Equity','Fixed Asset Turnover Ratio', 'YOY Sales Growth Rate',\\\n",
    "                   'YOY EBIT Growth Rate', 'Total shareholders\" funds', 'Company_name']\n",
    "print(df1.columns)"
   ]
  },
  {
   "cell_type": "code",
   "execution_count": 9,
   "id": "72c2ee21",
   "metadata": {},
   "outputs": [
    {
     "name": "stdout",
     "output_type": "stream",
     "text": [
      "Shape of X_train (6300, 31)\n",
      "Shape of X_test (2700, 31)\n",
      "Shape of Y_train (6300,)\n",
      "Shape of Y_test (2700,)\n"
     ]
    }
   ],
   "source": [
    "###\n",
    "X_train, X_test, Y_train, Y_test = split_train_test(df1, 'Target', 0.3, 12345)\n",
    "\n",
    "print(\"Shape of X_train {}\". format(X_train.shape))\n",
    "print(\"Shape of X_test {}\". format(X_test.shape))\n",
    "print(\"Shape of Y_train {}\". format(Y_train.shape))\n",
    "print(\"Shape of Y_test {}\". format(Y_test.shape))"
   ]
  },
  {
   "cell_type": "code",
   "execution_count": 10,
   "id": "f91e2d2e",
   "metadata": {},
   "outputs": [
    {
     "name": "stdout",
     "output_type": "stream",
     "text": [
      "roc_auc\n",
      "\n",
      " n_splits 10\n",
      "LR: 0.595213 (0.018442)\n",
      "\n",
      " n_splits 10\n",
      "KNN: 0.656709 (0.038811)\n",
      "\n",
      " n_splits 10\n",
      "CART: 1.000000 (0.000000)\n",
      "\n",
      " n_splits 10\n",
      "NB: 0.561934 (0.027011)\n",
      "\n",
      " n_splits 10\n",
      "RF: 1.000000 (0.000000)\n"
     ]
    },
    {
     "data": {
      "image/png": "[encoded data removed]",
      "text/plain": [
       "<Figure size 432x288 with 1 Axes>"
      ]
     },
     "metadata": {
      "needs_background": "light"
     },
     "output_type": "display_data"
    },
    {
     "name": "stdout",
     "output_type": "stream",
     "text": [
      "precision\n",
      "\n",
      " n_splits 10\n",
      "LR: 0.857501 (0.010378)\n",
      "\n",
      " n_splits 10\n",
      "KNN: 0.879723 (0.011246)\n",
      "\n",
      " n_splits 10\n",
      "CART: 1.000000 (0.000000)\n",
      "\n",
      " n_splits 10\n",
      "NB: 0.965549 (0.031073)\n",
      "\n",
      " n_splits 10\n",
      "RF: 1.000000 (0.000000)\n"
     ]
    },
    {
     "data": {
      "image/png": "[encoded data removed]",
      "text/plain": [
       "<Figure size 432x288 with 1 Axes>"
      ]
     },
     "metadata": {
      "needs_background": "light"
     },
     "output_type": "display_data"
    },
    {
     "name": "stdout",
     "output_type": "stream",
     "text": [
      "recall\n",
      "\n",
      " n_splits 10\n",
      "LR: 0.996655 (0.002183)\n",
      "\n",
      " n_splits 10\n",
      "KNN: 0.968149 (0.008714)\n",
      "\n",
      " n_splits 10\n",
      "CART: 1.000000 (0.000000)\n",
      "\n",
      " n_splits 10\n",
      "NB: 0.040070 (0.008015)\n",
      "\n",
      " n_splits 10\n",
      "RF: 1.000000 (0.000000)\n"
     ]
    },
    {
     "data": {
      "image/png": "[encoded data removed]",
      "text/plain": [
       "<Figure size 432x288 with 1 Axes>"
      ]
     },
     "metadata": {
      "needs_background": "light"
     },
     "output_type": "display_data"
    }
   ],
   "source": [
    "n_splits     = 10\n",
    "random_state = 123456\n",
    "\n",
    "compare_models(n_splits, random_state, X_train, Y_train)"
   ]
  }
 ],
 "metadata": {
  "kernelspec": {
   "display_name": "Python 3",
   "language": "python",
   "name": "python3"
  },
  "language_info": {
   "codemirror_mode": {
    "name": "ipython",
    "version": 3
   },
   "file_extension": ".py",
   "mimetype": "text/x-python",
   "name": "python",
   "nbconvert_exporter": "python",
   "pygments_lexer": "ipython3",
   "version": "3.8.8"
  }
 },
 "nbformat": 4,
 "nbformat_minor": 5
}
