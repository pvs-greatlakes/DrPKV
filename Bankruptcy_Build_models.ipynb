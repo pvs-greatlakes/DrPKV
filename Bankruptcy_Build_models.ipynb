{
 "cells": [
  {
   "cell_type": "markdown",
   "id": "edd1b439",
   "metadata": {},
   "source": [
    "### 1) Importing required modules"
   ]
  },
  {
   "cell_type": "code",
   "execution_count": 1,
   "id": "95c65dee",
   "metadata": {},
   "outputs": [],
   "source": [
    "import  pandas                   as      pd\n",
    "import  numpy                    as      np\n",
    "from    sklearn.model_selection  import  train_test_split\n",
    "from    sklearn.linear_model     import  LogisticRegression\n",
    "from    sklearn.metrics          import  accuracy_score, roc_auc_score\n",
    "\n",
    "from    matplotlib               import  pyplot   as  plt"
   ]
  },
  {
   "cell_type": "code",
   "execution_count": 2,
   "id": "90cc6e63",
   "metadata": {},
   "outputs": [],
   "source": [
    "import time\n",
    "from    datetime   import datetime\n",
    "from    datetime   import timedelta"
   ]
  },
  {
   "cell_type": "markdown",
   "id": "ce9492b6",
   "metadata": {},
   "source": [
    "### 2) Read data"
   ]
  },
  {
   "cell_type": "code",
   "execution_count": 3,
   "id": "5455f3c0",
   "metadata": {},
   "outputs": [
    {
     "name": "stdout",
     "output_type": "stream",
     "text": [
      "\n",
      "Dataset dimension (9000, 10)\n",
      "Index(['Target', 'Cash_ratio', 'Interest_coverage', 'Inventory_turnover',\n",
      "       'Operating Cash Flow/Total Debt', 'Operating Cash Flow/Total Sales',\n",
      "       'Shareholderquity_code', 'Total shareholders' funds',\n",
      "       'YOY EBIT Growth Rate', 'debt_equity'],\n",
      "      dtype='object')\n"
     ]
    }
   ],
   "source": [
    "file_name     =   r'D:\\DrPKV\\20220618\\Output\\Important_9_columns_Data.csv'\n",
    "df1           =   pd.read_csv(file_name)\n",
    "print('\\nDataset dimension {}'.format(df1.shape))\n",
    "print(df1.columns)"
   ]
  },
  {
   "cell_type": "code",
   "execution_count": 4,
   "id": "620962eb",
   "metadata": {},
   "outputs": [],
   "source": [
    "y             =    df1['Target']\n",
    "X             =    df1.drop(['Target'], axis = 1)     "
   ]
  },
  {
   "cell_type": "markdown",
   "id": "3065d10e",
   "metadata": {},
   "source": [
    "### 3) Implementing cross validation"
   ]
  },
  {
   "cell_type": "code",
   "execution_count": 5,
   "id": "dade08c1",
   "metadata": {},
   "outputs": [],
   "source": [
    "\"\"\"\n",
    "Function Name: compare_models\n",
    "\n",
    "   Description: This **function** compares various algorithms on \n",
    "                 1) AUROC 2) Precision, 3) Recall\n",
    "   \n",
    "   Input: 1) splits for k fold \n",
    "          2) random seed number\n",
    "          3) Training data for predictor variables\n",
    "          4) Training data for target variable\n",
    "\n",
    "\n",
    "\n",
    "   Output: Model comparison on these metrics 1) AUROC 2) Metrics - Precision, Recall\n",
    "   \n",
    "\"\"\"\n",
    "def compare_models(random_state, X, y):  \n",
    "\n",
    "    ### To compare algorithms\n",
    "    \n",
    "    from    matplotlib                    import   pyplot                 as       plt\n",
    "    from    sklearn.model_selection       import   KFold\n",
    "    from    sklearn.metrics               import   roc_auc_score\n",
    "    from    sklearn.linear_model          import   LogisticRegression\n",
    "    from    sklearn.tree                  import   DecisionTreeClassifier\n",
    "    from    sklearn.svm                   import   SVC\n",
    "    from    sklearn.discriminant_analysis import   LinearDiscriminantAnalysis\n",
    "    from    sklearn.neighbors             import   KNeighborsClassifier\n",
    "    from    sklearn.ensemble              import   RandomForestClassifier\n",
    "    from    sklearn.model_selection       import   StratifiedKFold\n",
    "    ### ----------------------------------------------------------------------------------------------    \n",
    "    ### Prepare models\n",
    "    ### ----------------------------------------------------------------------------------------------\n",
    "    \n",
    "    X_train, X_test, y_train, y_test =  train_test_split(X, y, test_size = 0.30, stratify = y,  random_state = random_state)  \n",
    "        \n",
    "    results_df   =   pd.DataFrame()  \n",
    "    models       =   []\n",
    "    models.append(('LR', LogisticRegression().fit(X_train, y_train)))\n",
    "    models.append(('CART', DecisionTreeClassifier().fit(X_train, y_train)))\n",
    "    models.append(('RF',RandomForestClassifier().fit(X_train, y_train)))\n",
    "    models.append(('SVC', SVC().fit(X_train, y_train)))\n",
    "    models.append(('LDA', LinearDiscriminantAnalysis().fit(X_train, y_train)))\n",
    "    models.append(('KNN', KNeighborsClassifier().fit(X_train, y_train)))\n",
    "    ### ----------------------------------------------------------------------------------------------   \n",
    "    ### Evaluate model in turn\n",
    "      \n",
    "    scores_req      =  ['roc_auc', 'precision', 'recall']\n",
    "\n",
    "    res_df_tr       =  pd.DataFrame() \n",
    "    res_df_test     =  pd.DataFrame() \n",
    "    \n",
    "    for name, clf in models:\n",
    "                 \n",
    "            y_train_pred                     =  clf.predict(X_train); print(y_train_pred.shape)\n",
    "            y_test_pred                      =  clf.predict(X_test); print(y_test_pred.shape)\n",
    "\n",
    "            res_train_df                     =  pd.DataFrame({'Train_y_true' :  y_train, 'Train_y_pred' : y_train_pred})\n",
    "            res_test_df                      =  pd.DataFrame({'Test_y_true' :   y_test, 'Test_y_pred' : y_test_pred})\n",
    "            res_train_df['Model']            =  name\n",
    "            res_test_df['Model']             =  name\n",
    "            res_df_tr                        =  pd.concat([res_df_tr, res_train_df], axis = 0)\n",
    "            res_df_test                      =  pd.concat([res_df_test, res_test_df], axis = 0)\n",
    "           \n",
    "    result                           =  [res_df_tr, res_df_test]\n",
    "    \n",
    "    return result\n",
    "### ------------------------------------------------------------------------------------------"
   ]
  },
  {
   "cell_type": "code",
   "execution_count": 6,
   "id": "67b82833",
   "metadata": {},
   "outputs": [
    {
     "name": "stdout",
     "output_type": "stream",
     "text": [
      "(6300,)\n",
      "(2700,)\n",
      "(6300,)\n",
      "(2700,)\n",
      "(6300,)\n",
      "(2700,)\n",
      "(6300,)\n",
      "(2700,)\n",
      "(6300,)\n",
      "(2700,)\n",
      "(6300,)\n",
      "(2700,)\n"
     ]
    }
   ],
   "source": [
    "random_state         =   12345\n",
    "tr, te               =  compare_models(random_state, X, y)"
   ]
  },
  {
   "cell_type": "code",
   "execution_count": 7,
   "id": "dee2631a",
   "metadata": {},
   "outputs": [],
   "source": [
    "# Write the output of Predicted values and actual values for each observation in training set for each model\n",
    "\n",
    "out_tr_filename      =  './../Output/Predicted_Values_train_data_' +  str(datetime.now().strftime('%Y_%m_%d_%H_%M_%S')) + '.csv'\n",
    "tr.to_csv(out_tr_filename, index = False)"
   ]
  },
  {
   "cell_type": "code",
   "execution_count": 8,
   "id": "7bfea796",
   "metadata": {},
   "outputs": [],
   "source": [
    "# Write the output of Predicted values and actual values for each observation in test set for each model\n",
    "\n",
    "out_test_filename      =  './../Output/Predicted_Values_test_data_' + str(datetime.now().strftime('%Y_%m_%d_%H_%M_%S')) + '.csv'\n",
    "te.to_csv(out_test_filename, index = False)"
   ]
  }
 ],
 "metadata": {
  "kernelspec": {
   "display_name": "Python 3 (ipykernel)",
   "language": "python",
   "name": "python3"
  },
  "language_info": {
   "codemirror_mode": {
    "name": "ipython",
    "version": 3
   },
   "file_extension": ".py",
   "mimetype": "text/x-python",
   "name": "python",
   "nbconvert_exporter": "python",
   "pygments_lexer": "ipython3",
   "version": "3.9.12"
  }
 },
 "nbformat": 4,
 "nbformat_minor": 5
}
